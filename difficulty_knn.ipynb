{
 "cells": [
  {
   "cell_type": "code",
   "execution_count": 1,
   "metadata": {},
   "outputs": [],
   "source": [
    "import pandas as pd\n",
    "import numpy as np\n",
    "from sklearn.neighbors import KNeighborsClassifier\n",
    "from sklearn.model_selection import train_test_split"
   ]
  },
  {
   "cell_type": "code",
   "execution_count": 2,
   "metadata": {},
   "outputs": [
    {
     "data": {
      "text/html": [
       "<div>\n",
       "<style scoped>\n",
       "    .dataframe tbody tr th:only-of-type {\n",
       "        vertical-align: middle;\n",
       "    }\n",
       "\n",
       "    .dataframe tbody tr th {\n",
       "        vertical-align: top;\n",
       "    }\n",
       "\n",
       "    .dataframe thead th {\n",
       "        text-align: right;\n",
       "    }\n",
       "</style>\n",
       "<table border=\"1\" class=\"dataframe\">\n",
       "  <thead>\n",
       "    <tr style=\"text-align: right;\">\n",
       "      <th></th>\n",
       "      <th>problem_id</th>\n",
       "      <th>diff_time</th>\n",
       "      <th>first_pf_ratio</th>\n",
       "      <th>difficulty</th>\n",
       "    </tr>\n",
       "  </thead>\n",
       "  <tbody>\n",
       "    <tr>\n",
       "      <th>0</th>\n",
       "      <td>100</td>\n",
       "      <td>4909.323282</td>\n",
       "      <td>0.250000</td>\n",
       "      <td>1</td>\n",
       "    </tr>\n",
       "    <tr>\n",
       "      <th>1</th>\n",
       "      <td>101</td>\n",
       "      <td>339.843212</td>\n",
       "      <td>0.428571</td>\n",
       "      <td>1</td>\n",
       "    </tr>\n",
       "    <tr>\n",
       "      <th>2</th>\n",
       "      <td>102</td>\n",
       "      <td>7609.605477</td>\n",
       "      <td>0.148148</td>\n",
       "      <td>2</td>\n",
       "    </tr>\n",
       "    <tr>\n",
       "      <th>3</th>\n",
       "      <td>103</td>\n",
       "      <td>1504.160602</td>\n",
       "      <td>0.454545</td>\n",
       "      <td>1</td>\n",
       "    </tr>\n",
       "    <tr>\n",
       "      <th>4</th>\n",
       "      <td>104</td>\n",
       "      <td>2221.719998</td>\n",
       "      <td>0.700000</td>\n",
       "      <td>1</td>\n",
       "    </tr>\n",
       "    <tr>\n",
       "      <th>...</th>\n",
       "      <td>...</td>\n",
       "      <td>...</td>\n",
       "      <td>...</td>\n",
       "      <td>...</td>\n",
       "    </tr>\n",
       "    <tr>\n",
       "      <th>112</th>\n",
       "      <td>96</td>\n",
       "      <td>128.579397</td>\n",
       "      <td>0.400000</td>\n",
       "      <td>1</td>\n",
       "    </tr>\n",
       "    <tr>\n",
       "      <th>113</th>\n",
       "      <td>97</td>\n",
       "      <td>685.743135</td>\n",
       "      <td>0.189189</td>\n",
       "      <td>1</td>\n",
       "    </tr>\n",
       "    <tr>\n",
       "      <th>114</th>\n",
       "      <td>98</td>\n",
       "      <td>33.388133</td>\n",
       "      <td>0.470588</td>\n",
       "      <td>1</td>\n",
       "    </tr>\n",
       "    <tr>\n",
       "      <th>115</th>\n",
       "      <td>99</td>\n",
       "      <td>66.590902</td>\n",
       "      <td>0.500000</td>\n",
       "      <td>1</td>\n",
       "    </tr>\n",
       "    <tr>\n",
       "      <th>116</th>\n",
       "      <td>c16b270c3efd4ae4b9278400f64fdc15</td>\n",
       "      <td>10.102029</td>\n",
       "      <td>0.400000</td>\n",
       "      <td>1</td>\n",
       "    </tr>\n",
       "  </tbody>\n",
       "</table>\n",
       "<p>117 rows × 4 columns</p>\n",
       "</div>"
      ],
      "text/plain": [
       "                           problem_id    diff_time  first_pf_ratio  difficulty\n",
       "0                                 100  4909.323282        0.250000           1\n",
       "1                                 101   339.843212        0.428571           1\n",
       "2                                 102  7609.605477        0.148148           2\n",
       "3                                 103  1504.160602        0.454545           1\n",
       "4                                 104  2221.719998        0.700000           1\n",
       "..                                ...          ...             ...         ...\n",
       "112                                96   128.579397        0.400000           1\n",
       "113                                97   685.743135        0.189189           1\n",
       "114                                98    33.388133        0.470588           1\n",
       "115                                99    66.590902        0.500000           1\n",
       "116  c16b270c3efd4ae4b9278400f64fdc15    10.102029        0.400000           1\n",
       "\n",
       "[117 rows x 4 columns]"
      ]
     },
     "execution_count": 2,
     "metadata": {},
     "output_type": "execute_result"
    }
   ],
   "source": [
    "model_df = pd.read_csv('ModelGrader/modelgrader_submission_processed.csv')\n",
    "model_df"
   ]
  },
  {
   "cell_type": "code",
   "execution_count": 3,
   "metadata": {},
   "outputs": [],
   "source": [
    "X_train, X_test, y_train, y_test = train_test_split(model_df.drop(['difficulty','problem_id'], axis=1), model_df['difficulty'], test_size=0.2, random_state=42)"
   ]
  },
  {
   "cell_type": "code",
   "execution_count": 4,
   "metadata": {},
   "outputs": [
    {
     "name": "stdout",
     "output_type": "stream",
     "text": [
      "accuracy: 0.625000\n"
     ]
    }
   ],
   "source": [
    "nn = KNeighborsClassifier(n_neighbors=13)\n",
    "nn.fit(X_train, y_train)\n",
    "y_test_pred = nn.predict(X_test) # predict labels on the test images\n",
    "\n",
    "# and now print the classification accuracy, which is the average number\n",
    "# of examples that are correctly predicted (i.e. label matches)\n",
    "print('accuracy: %f' % (np.mean(y_test_pred == y_test)))"
   ]
  },
  {
   "cell_type": "code",
   "execution_count": 5,
   "metadata": {},
   "outputs": [
    {
     "name": "stdout",
     "output_type": "stream",
     "text": [
      "K = 2\n",
      "accuracy: 0.458333\n",
      "K = 3\n",
      "accuracy: 0.541667\n",
      "K = 4\n",
      "accuracy: 0.500000\n",
      "K = 5\n",
      "accuracy: 0.500000\n",
      "K = 6\n",
      "accuracy: 0.541667\n",
      "K = 7\n",
      "accuracy: 0.500000\n",
      "K = 8\n",
      "accuracy: 0.541667\n",
      "K = 9\n",
      "accuracy: 0.583333\n",
      "K = 10\n",
      "accuracy: 0.583333\n",
      "K = 11\n",
      "accuracy: 0.583333\n",
      "K = 12\n",
      "accuracy: 0.541667\n",
      "K = 13\n",
      "accuracy: 0.625000\n",
      "K = 14\n",
      "accuracy: 0.541667\n",
      "K = 15\n",
      "accuracy: 0.625000\n",
      "K = 16\n",
      "accuracy: 0.625000\n",
      "K = 17\n",
      "accuracy: 0.625000\n",
      "K = 18\n",
      "accuracy: 0.541667\n",
      "K = 19\n",
      "accuracy: 0.625000\n"
     ]
    }
   ],
   "source": [
    "for k in range(2, 20):\n",
    "    nn = KNeighborsClassifier(n_neighbors=k)\n",
    "    nn.fit(X_train, y_train)\n",
    "    y_test_pred = nn.predict(X_test)\n",
    "    print('K =', k)\n",
    "    print('accuracy: %f' % (np.mean(y_test_pred == y_test)))"
   ]
  }
 ],
 "metadata": {
  "kernelspec": {
   "display_name": "Python 3",
   "language": "python",
   "name": "python3"
  },
  "language_info": {
   "codemirror_mode": {
    "name": "ipython",
    "version": 3
   },
   "file_extension": ".py",
   "mimetype": "text/x-python",
   "name": "python",
   "nbconvert_exporter": "python",
   "pygments_lexer": "ipython3",
   "version": "3.11.1"
  }
 },
 "nbformat": 4,
 "nbformat_minor": 2
}
