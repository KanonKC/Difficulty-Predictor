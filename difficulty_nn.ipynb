{
 "cells": [
  {
   "cell_type": "code",
   "execution_count": 20,
   "metadata": {},
   "outputs": [
    {
     "data": {
      "text/plain": [
       "'cuda'"
      ]
     },
     "execution_count": 20,
     "metadata": {},
     "output_type": "execute_result"
    }
   ],
   "source": [
    "# Standard PyTorch imports\n",
    "import torch\n",
    "import pandas as pd\n",
    "from torch import nn\n",
    "from sklearn.model_selection import train_test_split\n",
    "from torch.autograd import Variable\n",
    "\n",
    "# Make device agnostic code\n",
    "device = \"cuda\" if torch.cuda.is_available() else \"cpu\"\n",
    "device"
   ]
  },
  {
   "cell_type": "code",
   "execution_count": 21,
   "metadata": {},
   "outputs": [],
   "source": [
    "class NeuralNetwork(nn.Module):\n",
    "    def __init__(self):\n",
    "        super(NeuralNetwork, self).__init__()\n",
    "        self.flatten = nn.Flatten()\n",
    "        self.linear_relu_stack = nn.Sequential(\n",
    "            nn.Linear(2, 5),\n",
    "            nn.ReLU(),\n",
    "            nn.Linear(5, 3),\n",
    "        )\n",
    "\n",
    "    def forward(self, x):\n",
    "        # x = self.flatten(x)\n",
    "        logits = self.linear_relu_stack(x)\n",
    "        return logits"
   ]
  },
  {
   "cell_type": "code",
   "execution_count": 22,
   "metadata": {},
   "outputs": [],
   "source": [
    "model = NeuralNetwork().to(device)"
   ]
  },
  {
   "cell_type": "code",
   "execution_count": 23,
   "metadata": {},
   "outputs": [
    {
     "data": {
      "text/html": [
       "<div>\n",
       "<style scoped>\n",
       "    .dataframe tbody tr th:only-of-type {\n",
       "        vertical-align: middle;\n",
       "    }\n",
       "\n",
       "    .dataframe tbody tr th {\n",
       "        vertical-align: top;\n",
       "    }\n",
       "\n",
       "    .dataframe thead th {\n",
       "        text-align: right;\n",
       "    }\n",
       "</style>\n",
       "<table border=\"1\" class=\"dataframe\">\n",
       "  <thead>\n",
       "    <tr style=\"text-align: right;\">\n",
       "      <th></th>\n",
       "      <th>avg_first_passed_total_attempts</th>\n",
       "      <th>avg_first_passed_time_used</th>\n",
       "      <th>difficulty</th>\n",
       "    </tr>\n",
       "    <tr>\n",
       "      <th>problem_id</th>\n",
       "      <th></th>\n",
       "      <th></th>\n",
       "      <th></th>\n",
       "    </tr>\n",
       "  </thead>\n",
       "  <tbody>\n",
       "    <tr>\n",
       "      <th>100</th>\n",
       "      <td>32</td>\n",
       "      <td>4909.323282</td>\n",
       "      <td>0</td>\n",
       "    </tr>\n",
       "    <tr>\n",
       "      <th>101</th>\n",
       "      <td>21</td>\n",
       "      <td>339.843212</td>\n",
       "      <td>0</td>\n",
       "    </tr>\n",
       "    <tr>\n",
       "      <th>102</th>\n",
       "      <td>27</td>\n",
       "      <td>7609.605477</td>\n",
       "      <td>1</td>\n",
       "    </tr>\n",
       "    <tr>\n",
       "      <th>103</th>\n",
       "      <td>11</td>\n",
       "      <td>1504.160602</td>\n",
       "      <td>0</td>\n",
       "    </tr>\n",
       "    <tr>\n",
       "      <th>104</th>\n",
       "      <td>10</td>\n",
       "      <td>2221.719998</td>\n",
       "      <td>0</td>\n",
       "    </tr>\n",
       "    <tr>\n",
       "      <th>...</th>\n",
       "      <td>...</td>\n",
       "      <td>...</td>\n",
       "      <td>...</td>\n",
       "    </tr>\n",
       "    <tr>\n",
       "      <th>96</th>\n",
       "      <td>20</td>\n",
       "      <td>128.579397</td>\n",
       "      <td>0</td>\n",
       "    </tr>\n",
       "    <tr>\n",
       "      <th>97</th>\n",
       "      <td>37</td>\n",
       "      <td>685.743135</td>\n",
       "      <td>0</td>\n",
       "    </tr>\n",
       "    <tr>\n",
       "      <th>98</th>\n",
       "      <td>17</td>\n",
       "      <td>33.388133</td>\n",
       "      <td>0</td>\n",
       "    </tr>\n",
       "    <tr>\n",
       "      <th>99</th>\n",
       "      <td>12</td>\n",
       "      <td>66.590902</td>\n",
       "      <td>0</td>\n",
       "    </tr>\n",
       "    <tr>\n",
       "      <th>c16b270c3efd4ae4b9278400f64fdc15</th>\n",
       "      <td>10</td>\n",
       "      <td>10.102029</td>\n",
       "      <td>0</td>\n",
       "    </tr>\n",
       "  </tbody>\n",
       "</table>\n",
       "<p>117 rows × 3 columns</p>\n",
       "</div>"
      ],
      "text/plain": [
       "                                  avg_first_passed_total_attempts  \\\n",
       "problem_id                                                          \n",
       "100                                                            32   \n",
       "101                                                            21   \n",
       "102                                                            27   \n",
       "103                                                            11   \n",
       "104                                                            10   \n",
       "...                                                           ...   \n",
       "96                                                             20   \n",
       "97                                                             37   \n",
       "98                                                             17   \n",
       "99                                                             12   \n",
       "c16b270c3efd4ae4b9278400f64fdc15                               10   \n",
       "\n",
       "                                  avg_first_passed_time_used  difficulty  \n",
       "problem_id                                                                \n",
       "100                                              4909.323282           0  \n",
       "101                                               339.843212           0  \n",
       "102                                              7609.605477           1  \n",
       "103                                              1504.160602           0  \n",
       "104                                              2221.719998           0  \n",
       "...                                                      ...         ...  \n",
       "96                                                128.579397           0  \n",
       "97                                                685.743135           0  \n",
       "98                                                 33.388133           0  \n",
       "99                                                 66.590902           0  \n",
       "c16b270c3efd4ae4b9278400f64fdc15                   10.102029           0  \n",
       "\n",
       "[117 rows x 3 columns]"
      ]
     },
     "execution_count": 23,
     "metadata": {},
     "output_type": "execute_result"
    }
   ],
   "source": [
    "df = pd.read_csv(\"ModelGrader/modelgrader_submission_processed.csv\",index_col=\"problem_id\")\n",
    "df['difficulty'] = df['difficulty'] - 1\n",
    "df"
   ]
  },
  {
   "cell_type": "code",
   "execution_count": 24,
   "metadata": {},
   "outputs": [
    {
     "data": {
      "text/plain": [
       "tensor([1, 0, 0, 1, 0, 1, 0, 2, 0, 0, 0, 1, 1, 0, 0, 1, 0, 1, 0, 0, 2, 0, 0, 0,\n",
       "        1, 1, 1, 0, 0, 0, 0, 0, 0, 1, 0, 1, 0, 1, 1, 0, 1, 0, 0, 1, 0, 0, 0, 1,\n",
       "        0, 0, 2, 2, 0, 1, 0, 0, 0, 0, 0, 0, 1, 1, 0, 1, 0, 0, 0, 2, 0, 0, 0, 0,\n",
       "        1, 0, 0, 1, 1, 2, 0, 0, 0, 0, 0, 1, 0, 1, 1, 0, 0, 0, 1, 1, 1],\n",
       "       device='cuda:0')"
      ]
     },
     "execution_count": 24,
     "metadata": {},
     "output_type": "execute_result"
    }
   ],
   "source": [
    "X_train, X_test, y_train, y_test = train_test_split(df[[\"avg_first_passed_total_attempts\",\"avg_first_passed_time_used\"]], df[\"difficulty\"], test_size=0.2, random_state=42)\n",
    "\n",
    "X_train = torch.tensor(X_train.values, dtype=torch.float32).to(device)\n",
    "y_train = torch.tensor(y_train.values, dtype=torch.long).to(device)\n",
    "\n",
    "X_test = torch.tensor(X_test.values, dtype=torch.float32).to(device)\n",
    "y_test = torch.tensor(y_test.values, dtype=torch.long).to(device)\n",
    "\n",
    "y_train"
   ]
  },
  {
   "cell_type": "code",
   "execution_count": 25,
   "metadata": {},
   "outputs": [],
   "source": [
    "# Create a loss function\n",
    "# loss_fn = nn.BCELoss() # BCELoss = no sigmoid built-in\n",
    "loss_fn = nn.BCEWithLogitsLoss() # BCEWithLogitsLoss = sigmoid built-in\n",
    "\n",
    "# Create an optimizer\n",
    "optimizer = torch.optim.SGD(params=model.parameters(), lr=0.1)"
   ]
  },
  {
   "cell_type": "code",
   "execution_count": 26,
   "metadata": {},
   "outputs": [],
   "source": [
    "# Calculate accuracy (a classification metric)\n",
    "def accuracy_fn(y_true, y_pred):\n",
    "    correct = torch.eq(y_true, y_pred).sum().item() # torch.eq() calculates where two tensors are equal\n",
    "    acc = (correct / len(y_pred)) * 100 \n",
    "    return acc"
   ]
  },
  {
   "cell_type": "code",
   "execution_count": 27,
   "metadata": {},
   "outputs": [
    {
     "data": {
      "text/plain": [
       "(torch.Size([93, 2]), torch.Size([93]), torch.Size([24, 2]), torch.Size([24]))"
      ]
     },
     "execution_count": 27,
     "metadata": {},
     "output_type": "execute_result"
    }
   ],
   "source": [
    "X_train, y_train = X_train.to(device), y_train.to(device)\n",
    "X_test, y_test = X_test.to(device), y_test.to(device)\n",
    "\n",
    "X_train.shape, y_train.shape, X_test.shape, y_test.shape"
   ]
  },
  {
   "cell_type": "code",
   "execution_count": 31,
   "metadata": {},
   "outputs": [
    {
     "name": "stdout",
     "output_type": "stream",
     "text": [
      "tensor([[ 5.1852e-01, -1.6317e+00, -1.1079e+00],\n",
      "        [ 2.4365e+02, -1.3058e+02, -4.9794e+02],\n",
      "        [ 8.8406e+02, -4.6722e+02, -1.8056e+03],\n",
      "        [ 1.3479e+01, -9.7610e+00, -2.8083e+01],\n",
      "        [ 1.0421e+02, -5.6192e+01, -2.1253e+02],\n",
      "        [ 1.8923e+02, -1.0250e+02, -3.8716e+02],\n",
      "        [ 1.5220e+01, -1.0678e+01, -3.1639e+01],\n",
      "        [ 3.6133e+00, -3.2201e+00, -7.0655e+00],\n",
      "        [ 8.3220e+00, -5.8918e+00, -1.6806e+01],\n",
      "        [ 9.3139e+01, -5.0554e+01, -1.9004e+02],\n",
      "        [ 1.2562e+01, -7.9324e+00, -2.5343e+01],\n",
      "        [ 3.1055e+01, -1.7093e+01, -6.2742e+01],\n",
      "        [ 3.6367e+01, -2.1044e+01, -7.4335e+01],\n",
      "        [ 5.8995e+00, -4.2317e+00, -1.1611e+01],\n",
      "        [ 7.5407e-01, -1.1377e+00, -8.5400e-01],\n",
      "        [ 5.3758e+02, -2.8958e+02, -1.1010e+03],\n",
      "        [ 1.4672e+03, -7.7679e+02, -2.9982e+03],\n",
      "        [ 1.3926e+01, -1.1535e+01, -2.9988e+01],\n",
      "        [ 2.8181e+02, -1.5798e+02, -5.8059e+02],\n",
      "        [ 2.8995e+01, -1.6970e+01, -5.9155e+01],\n",
      "        [ 1.6243e+02, -1.0223e+02, -3.4134e+02],\n",
      "        [ 1.1291e+03, -6.0608e+02, -2.3125e+03],\n",
      "        [ 7.3688e+00, -6.5437e+00, -1.5603e+01],\n",
      "        [ 1.7965e+01, -1.0393e+01, -3.6131e+01]], device='cuda:0') tensor([[ 5.1852e-01, -1.6317e+00, -1.1079e+00],\n",
      "        [ 2.4365e+02, -1.3058e+02, -4.9794e+02],\n",
      "        [ 8.8406e+02, -4.6722e+02, -1.8056e+03],\n",
      "        [ 1.3479e+01, -9.7610e+00, -2.8083e+01],\n",
      "        [ 1.0421e+02, -5.6192e+01, -2.1253e+02],\n",
      "        [ 1.8923e+02, -1.0250e+02, -3.8716e+02],\n",
      "        [ 1.5220e+01, -1.0678e+01, -3.1639e+01],\n",
      "        [ 3.6133e+00, -3.2201e+00, -7.0655e+00],\n",
      "        [ 8.3220e+00, -5.8918e+00, -1.6806e+01],\n",
      "        [ 9.3139e+01, -5.0554e+01, -1.9004e+02],\n",
      "        [ 1.2562e+01, -7.9324e+00, -2.5343e+01],\n",
      "        [ 3.1055e+01, -1.7093e+01, -6.2742e+01],\n",
      "        [ 3.6367e+01, -2.1044e+01, -7.4335e+01],\n",
      "        [ 5.8995e+00, -4.2317e+00, -1.1611e+01],\n",
      "        [ 7.5407e-01, -1.1377e+00, -8.5400e-01],\n",
      "        [ 5.3758e+02, -2.8958e+02, -1.1010e+03],\n",
      "        [ 1.4672e+03, -7.7679e+02, -2.9982e+03],\n",
      "        [ 1.3926e+01, -1.1535e+01, -2.9988e+01],\n",
      "        [ 2.8181e+02, -1.5798e+02, -5.8059e+02],\n",
      "        [ 2.8995e+01, -1.6970e+01, -5.9155e+01],\n",
      "        [ 1.6243e+02, -1.0223e+02, -3.4134e+02],\n",
      "        [ 1.1291e+03, -6.0608e+02, -2.3125e+03],\n",
      "        [ 7.3688e+00, -6.5437e+00, -1.5603e+01],\n",
      "        [ 1.7965e+01, -1.0393e+01, -3.6131e+01]], device='cuda:0')\n",
      "Epoch: 0 | Loss: 0.69315, Accuracy: 0.00% | Test loss: -358628.40625, Test acc: 0.00%\n"
     ]
    }
   ],
   "source": [
    "torch.manual_seed(42)\n",
    "\n",
    "# Set the number of epochs\n",
    "epochs = 1\n",
    "\n",
    "# Put data to target device\n",
    "# X_train, y_train = X_train.to(device), y_train.to(device)\n",
    "# X_test, y_test = X_test.to(device), y_test.to(device)\n",
    "\n",
    "# Build training and evaluation loop\n",
    "for epoch in range(epochs):\n",
    "    ### Training\n",
    "    model.train()\n",
    "\n",
    "\n",
    "    y_logits = model(X_train)\n",
    "    pred_prob = torch.sigmoid(y_logits)\n",
    "    y_pred = pred_prob.argmax(dim=1)\n",
    "    # print(y_pred, y_train)\n",
    "\n",
    "    loss = loss_fn(y_pred.float(), y_train.float())\n",
    "    loss = Variable(loss, requires_grad = True)\n",
    "\n",
    "    test_acc = accuracy_fn(y_true=y_train,y_pred=y_pred)\n",
    "\n",
    "    # 3. Optimizer zero grad\n",
    "    optimizer.zero_grad()\n",
    "\n",
    "    # 4. Loss backwards\n",
    "    loss.backward()\n",
    "\n",
    "    # 5. Optimizer step\n",
    "    optimizer.step()\n",
    "\n",
    "    ### Testing\n",
    "    model.eval()\n",
    "    with torch.inference_mode():\n",
    "        # 1. Forward pass\n",
    "        test_logits = model(X_test).squeeze() \n",
    "        test_pred = torch.round(torch.sigmoid(test_logits))\n",
    "        # 2. Caculate loss/accuracy\n",
    "        y_test = test_logits.squeeze()\n",
    "        print(test_logits, y_test)\n",
    "        test_loss = loss_fn(test_logits,y_test)\n",
    "        test_acc = accuracy_fn(y_true=y_test,y_pred=test_pred)\n",
    "\n",
    "    # Print out what's happening every 10 epochs\n",
    "    if epoch % 10 == 0:\n",
    "        print(f\"Epoch: {epoch} | Loss: {loss:.5f}, Accuracy: {test_acc:.2f}% | Test loss: {test_loss:.5f}, Test acc: {test_acc:.2f}%\")"
   ]
  }
 ],
 "metadata": {
  "kernelspec": {
   "display_name": "Python 3",
   "language": "python",
   "name": "python3"
  },
  "language_info": {
   "codemirror_mode": {
    "name": "ipython",
    "version": 3
   },
   "file_extension": ".py",
   "mimetype": "text/x-python",
   "name": "python",
   "nbconvert_exporter": "python",
   "pygments_lexer": "ipython3",
   "version": "3.11.1"
  }
 },
 "nbformat": 4,
 "nbformat_minor": 2
}
