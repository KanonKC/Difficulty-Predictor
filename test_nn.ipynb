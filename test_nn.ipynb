{
 "cells": [
  {
   "cell_type": "code",
   "execution_count": 2,
   "metadata": {},
   "outputs": [
    {
     "data": {
      "text/plain": [
       "'cuda'"
      ]
     },
     "execution_count": 2,
     "metadata": {},
     "output_type": "execute_result"
    }
   ],
   "source": [
    "# Standard PyTorch imports\n",
    "import torch\n",
    "import pandas as pd\n",
    "from torch import nn\n",
    "from sklearn.model_selection import train_test_split\n",
    "\n",
    "# Make device agnostic code\n",
    "device = \"cuda\" if torch.cuda.is_available() else \"cpu\"\n",
    "device"
   ]
  },
  {
   "cell_type": "code",
   "execution_count": 6,
   "metadata": {},
   "outputs": [],
   "source": [
    "class TestNeuralNetwork(torch.nn.Module):\n",
    "    def __init__(self):\n",
    "        super(TestNeuralNetwork, self).__init__()\n",
    "        self.linearLayer1 = torch.nn.Linear(2,3)\n",
    "        self.linearLayer2 = torch.nn.Linear(3,3)\n",
    "        self.linearLayer3 = torch.nn.Linear(3,2)\n",
    "\n",
    "    def forward(self, x):\n",
    "        h1 = self.linearLayer1(x)\n",
    "        a1 = torch.nn.functional.relu(h1)\n",
    "        h2 = self.linearLayer2(a1)\n",
    "        a2 = torch.nn.functional.relu(h2)\n",
    "        h3 = self.linearLayer3(a2)\n",
    "        return h3"
   ]
  },
  {
   "cell_type": "code",
   "execution_count": 8,
   "metadata": {},
   "outputs": [
    {
     "data": {
      "text/plain": [
       "tensor([ 0.4970, -0.4158], grad_fn=<AddBackward0>)"
      ]
     },
     "execution_count": 8,
     "metadata": {},
     "output_type": "execute_result"
    }
   ],
   "source": [
    "nn = TestNeuralNetwork()\n",
    "\n",
    "input = torch.Tensor([1,1])\n",
    "output = nn(input)\n",
    "output"
   ]
  }
 ],
 "metadata": {
  "kernelspec": {
   "display_name": "Python 3",
   "language": "python",
   "name": "python3"
  },
  "language_info": {
   "codemirror_mode": {
    "name": "ipython",
    "version": 3
   },
   "file_extension": ".py",
   "mimetype": "text/x-python",
   "name": "python",
   "nbconvert_exporter": "python",
   "pygments_lexer": "ipython3",
   "version": "3.11.1"
  }
 },
 "nbformat": 4,
 "nbformat_minor": 2
}
